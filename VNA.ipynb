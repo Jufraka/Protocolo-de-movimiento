{
 "cells": [
  {
   "cell_type": "code",
   "execution_count": 1,
   "id": "5e5ef84b-359f-40f9-b5aa-20af36170dd9",
   "metadata": {
    "tags": []
   },
   "outputs": [],
   "source": [
    "import socket"
   ]
  },
  {
   "cell_type": "code",
   "execution_count": 2,
   "id": "ec56b026-10eb-47a2-a9fa-2dfaac76e627",
   "metadata": {
    "tags": []
   },
   "outputs": [],
   "source": [
    "START=8e9\n",
    "STOP=9e9"
   ]
  },
  {
   "cell_type": "code",
   "execution_count": 3,
   "id": "98b71887-9af9-42ce-8d17-d1ed5301c209",
   "metadata": {
    "tags": []
   },
   "outputs": [],
   "source": [
    "vna = socket.socket(socket.AF_INET, socket.SOCK_STREAM)\n",
    "vna.connect((\"127.0.0.1\", 5001))"
   ]
  },
  {
   "cell_type": "code",
   "execution_count": 4,
   "id": "5ec1bb1e-ae83-4091-a8df-a80199376d4d",
   "metadata": {
    "tags": []
   },
   "outputs": [
    {
     "name": "stdout",
     "output_type": "stream",
     "text": [
      "b'ANRITSU,MS46122B,1919307,V2023.7.1,V2.3.16\\n'\n"
     ]
    }
   ],
   "source": [
    "vna.send(str.encode(\"*IDN?\\n\"))\n",
    "reply=vna.recv(2056)\n",
    "print (reply)"
   ]
  },
  {
   "cell_type": "code",
   "execution_count": 5,
   "id": "45942ce5-71d0-4ed0-91ad-d9ba8872eb35",
   "metadata": {
    "tags": []
   },
   "outputs": [
    {
     "name": "stdout",
     "output_type": "stream",
     "text": [
      "b'8.00000000000E+009\\n'\n",
      "b'9.00000000000E+009\\n'\n"
     ]
    },
    {
     "data": {
      "text/plain": [
       "15"
      ]
     },
     "execution_count": 5,
     "metadata": {},
     "output_type": "execute_result"
    }
   ],
   "source": [
    "startString='SENS:FREQ:START ' + str(START) + '\\n'\n",
    "stopString='SENS:FREQ:STOP ' + str(STOP) + '\\n'\n",
    "vna.send(str.encode(startString))\n",
    "vna.send(str.encode(\"SENS:FREQ:STAR?\\n\"))\n",
    "reply=vna.recv(2056)\n",
    "print (reply)\n",
    "vna.send(str.encode(stopString))\n",
    "vna.send(str.encode(\"SENS:FREQ:STOP?\\n\"))\n",
    "reply=vna.recv(2056)\n",
    "print (reply)\n",
    "vna.send(str.encode(\"SENS:SWEEP:POINT 401\\n\"))\n",
    "vna.send(str.encode(\"SENS:BAND 70E1\\n\"))"
   ]
  },
  {
   "cell_type": "code",
   "execution_count": 10,
   "id": "b6a50b99-4bb4-4914-b040-9e05123683f8",
   "metadata": {
    "tags": []
   },
   "outputs": [
    {
     "data": {
      "text/plain": [
       "47"
      ]
     },
     "execution_count": 10,
     "metadata": {},
     "output_type": "execute_result"
    }
   ],
   "source": [
    "vna.send(str.encode(\":CALCulate{1-16}[:SELected]:LIMit:SEGMent:CLEar\"))"
   ]
  },
  {
   "cell_type": "code",
   "execution_count": null,
   "id": "0dddb020-d057-40fb-8a26-9d7994035186",
   "metadata": {},
   "outputs": [],
   "source": []
  },
  {
   "cell_type": "code",
   "execution_count": null,
   "id": "b82f8fa8-9ab0-4940-b8e6-e435a4c16175",
   "metadata": {},
   "outputs": [],
   "source": []
  },
  {
   "cell_type": "code",
   "execution_count": null,
   "id": "c21bf8ee-f52d-4fd5-bce4-df26cda4bbe3",
   "metadata": {},
   "outputs": [],
   "source": []
  },
  {
   "cell_type": "markdown",
   "id": "46c91cc3-4d1e-416d-9080-d721899f8cd2",
   "metadata": {},
   "source": [
    "* Resetea el VNA"
   ]
  },
  {
   "cell_type": "code",
   "execution_count": 9,
   "id": "bce2fcbc-5ccd-4443-b112-dec15d41e59c",
   "metadata": {
    "tags": []
   },
   "outputs": [
    {
     "data": {
      "text/plain": [
       "14"
      ]
     },
     "execution_count": 9,
     "metadata": {},
     "output_type": "execute_result"
    }
   ],
   "source": [
    "vna.send(str.encode(\"SYSTem:PRESet\\n\"))"
   ]
  }
 ],
 "metadata": {
  "kernelspec": {
   "display_name": "Python 3 (ipykernel)",
   "language": "python",
   "name": "python3"
  },
  "language_info": {
   "codemirror_mode": {
    "name": "ipython",
    "version": 3
   },
   "file_extension": ".py",
   "mimetype": "text/x-python",
   "name": "python",
   "nbconvert_exporter": "python",
   "pygments_lexer": "ipython3",
   "version": "3.11.5"
  }
 },
 "nbformat": 4,
 "nbformat_minor": 5
}
