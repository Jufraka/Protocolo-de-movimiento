{
 "cells": [
  {
   "cell_type": "markdown",
   "id": "d2acac13-2a2b-47fe-8822-928e6357f6ba",
   "metadata": {
    "tags": []
   },
   "source": [
    "## Librerias"
   ]
  },
  {
   "cell_type": "code",
   "execution_count": 1,
   "id": "b0f002c4-095a-44bb-88f6-18b7ef62b64d",
   "metadata": {
    "tags": []
   },
   "outputs": [],
   "source": [
    "import serial\n",
    "import time"
   ]
  },
  {
   "cell_type": "markdown",
   "id": "623711d0-bd62-451f-b047-36b5980c7278",
   "metadata": {},
   "source": [
    "## Area a medir\n",
    "* Definir X_max y X_min de acuerdo al area que se desea medir\n",
    "* \"Divisiones\" corresponde al \"Step size\" para la medicion"
   ]
  },
  {
   "cell_type": "code",
   "execution_count": 2,
   "id": "c09c0d07-b64a-4371-8cb5-abda1cca5241",
   "metadata": {
    "tags": []
   },
   "outputs": [],
   "source": [
    "X_max=600\n",
    "X_min=200\n",
    "x=X_min\n",
    "y=X_min\n",
    "divisiones=40"
   ]
  },
  {
   "cell_type": "markdown",
   "id": "09fe0d08-2657-480b-9a7b-17602d1e3bd1",
   "metadata": {},
   "source": [
    "## Conexion con el VNA\n",
    "* Es necesario ajustar el puerto de acuerdo a tu PC"
   ]
  },
  {
   "cell_type": "code",
   "execution_count": 3,
   "id": "a3f9a820-1f21-4da2-a551-dbb0a9fb56c3",
   "metadata": {
    "tags": []
   },
   "outputs": [
    {
     "data": {
      "text/plain": [
       "b'start\\n'"
      ]
     },
     "execution_count": 3,
     "metadata": {},
     "output_type": "execute_result"
    }
   ],
   "source": [
    "ser=serial.Serial('COM3', 250000,timeout = 1)\n",
    "x=ser.readline()\n",
    "time.sleep(4)\n",
    "x"
   ]
  },
  {
   "cell_type": "markdown",
   "id": "94f86a37-978b-4b34-bd0e-5147b4b2ded2",
   "metadata": {},
   "source": [
    "## Llevar el posicionador a home"
   ]
  },
  {
   "cell_type": "code",
   "execution_count": 4,
   "id": "2cb31aa6-f445-4ed2-b657-612601a44217",
   "metadata": {
    "tags": []
   },
   "outputs": [
    {
     "data": {
      "text/plain": [
       "4"
      ]
     },
     "execution_count": 4,
     "metadata": {},
     "output_type": "execute_result"
    }
   ],
   "source": [
    "ser.write((b'G28\\n'))\n",
    "time.sleep(5)"
   ]
  },
  {
   "cell_type": "markdown",
   "id": "f9596d0f-fde3-443e-ad7d-d66cac621859",
   "metadata": {},
   "source": [
    "## Vector de posicion"
   ]
  },
  {
   "cell_type": "code",
   "execution_count": 5,
   "id": "f1fbba5f-95ac-41cf-8371-91c168058d9a",
   "metadata": {
    "tags": []
   },
   "outputs": [],
   "source": [
    "pasox=list(range(X_min, X_max+divisiones, divisiones))\n",
    "pasoy=list(range(X_min, X_max+divisiones, divisiones))"
   ]
  },
  {
   "cell_type": "markdown",
   "id": "99ace787-b954-4915-b8cd-665a33497ea4",
   "metadata": {},
   "source": [
    "## Protocolo de movimiento\n",
    "* Primero se desplaza a la posicion inicial"
   ]
  },
  {
   "cell_type": "code",
   "execution_count": 6,
   "id": "af0f2186-8587-43d3-aa6b-4743caed8940",
   "metadata": {
    "tags": []
   },
   "outputs": [],
   "source": [
    "index=0\n",
    "indey=0\n",
    "stringValues='G0 X' + str(X_min) + 'Y'+ str(X_min) + '\\n'\n",
    "ser.write((stringValues.encode()))\n",
    "time.sleep(6)"
   ]
  },
  {
   "cell_type": "markdown",
   "id": "e7a5b444-03d1-4f2d-a7c1-c6b58c0c2021",
   "metadata": {},
   "source": [
    "## Primera corrida"
   ]
  },
  {
   "cell_type": "code",
   "execution_count": 7,
   "id": "76dcdc37-238a-4fca-86d1-0d64f4029c5f",
   "metadata": {
    "tags": []
   },
   "outputs": [],
   "source": [
    "while (x != X_max):\n",
    "    x=pasox[index]\n",
    "    stringValues='G0 X' + str(x) + 'Y'+ str(y) + '\\n'\n",
    "    ser.write((stringValues.encode()))\n",
    "    index=index+1\n",
    "    time.sleep(3)\n",
    "else:\n",
    "    pass"
   ]
  },
  {
   "cell_type": "markdown",
   "id": "aad8d411-2c45-4ddf-835a-8e22ab0740e5",
   "metadata": {},
   "source": [
    "## Barrido Completo"
   ]
  },
  {
   "cell_type": "code",
   "execution_count": 13,
   "id": "64edd8cc-b037-4120-8645-8edccd29a529",
   "metadata": {
    "tags": []
   },
   "outputs": [],
   "source": [
    "while (y != X_max):\n",
    "    indey=indey+1\n",
    "    y=pasoy[indey]\n",
    "    stringValues='G0 X' + str(x) + 'Y'+ str(y) + '\\n'\n",
    "    ser.write((stringValues.encode()))\n",
    "    time.sleep(3)\n",
    "    \n",
    "    if x==X_max:\n",
    "        while (x!=X_min):\n",
    "            index=index-1\n",
    "            x=pasox[index]\n",
    "            stringValues='G0 X' + str(x) + 'Y'+ str(y) + '\\n'\n",
    "            ser.write((stringValues.encode()))\n",
    "            time.sleep(3)\n",
    "    else:\n",
    "        pass\n",
    "    \n",
    "    indey=indey+1\n",
    "    y=pasoy[indey]\n",
    "    stringValues='G0 X' + str(x) + 'Y'+ str(y) + '\\n'\n",
    "    ser.write((stringValues.encode()))\n",
    "    time.sleep(3)\n",
    "    \n",
    "    if x==X_min:\n",
    "        while (x!=X_max):\n",
    "            index=index+1\n",
    "            x=pasox[index]\n",
    "            stringValues='G0 X' + str(x) + 'Y'+ str(y) + '\\n'\n",
    "            ser.write((stringValues.encode()))\n",
    "            time.sleep(3)\n",
    "        else:\n",
    "            pass\n",
    "    else:\n",
    "        pass\n",
    "\n",
    "else:\n",
    "    pass"
   ]
  },
  {
   "cell_type": "markdown",
   "id": "c5b05625-f5fe-4b63-85c8-593403310acd",
   "metadata": {},
   "source": [
    "## AutoHome"
   ]
  },
  {
   "cell_type": "code",
   "execution_count": 14,
   "id": "7176e0fb-d01d-4b1a-9aa2-b54d6f30fbc1",
   "metadata": {
    "tags": []
   },
   "outputs": [],
   "source": [
    "ser.write((b'G28\\n'))\n",
    "time.sleep(5)"
   ]
  },
  {
   "cell_type": "markdown",
   "id": "9684d602-d24c-4951-a791-f0e4a370be29",
   "metadata": {},
   "source": [
    "## Apagar motores"
   ]
  },
  {
   "cell_type": "code",
   "execution_count": 15,
   "id": "7214f436-85fb-4910-b2ba-d821d7af9e75",
   "metadata": {
    "tags": []
   },
   "outputs": [],
   "source": [
    "ser.write((b'M84\\n'))\n",
    "time.sleep(3)"
   ]
  },
  {
   "cell_type": "code",
   "execution_count": null,
   "id": "6ff6bfd2-21fa-4a4e-b856-9b26eb7b8678",
   "metadata": {},
   "outputs": [],
   "source": []
  }
 ],
 "metadata": {
  "kernelspec": {
   "display_name": "Python 3 (ipykernel)",
   "language": "python",
   "name": "python3"
  },
  "language_info": {
   "codemirror_mode": {
    "name": "ipython",
    "version": 3
   },
   "file_extension": ".py",
   "mimetype": "text/x-python",
   "name": "python",
   "nbconvert_exporter": "python",
   "pygments_lexer": "ipython3",
   "version": "3.11.5"
  }
 },
 "nbformat": 4,
 "nbformat_minor": 5
}
